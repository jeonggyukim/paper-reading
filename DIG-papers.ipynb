{
 "cells": [
  {
   "cell_type": "markdown",
   "metadata": {},
   "source": [
    "### Vandenbroucke & Wood (2019): Radiation hydrodynamics simulations of the evolution of the diffuse ionized gas in disc galaxies\n",
    "\n",
    "- $\\Sigma_{\\rm gas} = 3\\,M_{\\odot}\\,{\\rm pc}^{-2}$\n",
    "- Two-temperature isothermal EoS: $T_n = 500\\,{\\rm K}$, $T_n = 8000\\,{\\rm K}$. At lower $T_n$, escape of radiation more difficult.\n",
    "- $10^7$ or $10^8$ photon packets per iteration. 10 iterations.\n",
    "- __Update ionization state at 0.1, 0.5, 1 Myr time intervals__. Considering low spatial resolution ($\\sim 10 {\\rm pc}$) and low gas velocity ($\\sim 10$-$30$km/s), this should be okay.\n",
    "\n",
    "- Source distribution: uniform random horizontally. Vertical gaussian scale height of 63 pc.\n",
    "- Average source surface density: $24\\,{\\rm kpc}^{-2}$; average source lifetime: 20 Myr.\n",
    "- Ionizing luminosity per source is a __free parameter__: $10^{47}, 10^{48},10^{49}\\,{\\rm s}^{-1}$.\n",
    "- Update source list at 1Myr time interval\n",
    "\n",
    "\n",
    "- Notes on ionizing photon rate:\n",
    "- $\\Phi_{\\rm i} \\sim 10^{49}\\,{\\rm s}^{-1}\\,{\\rm kpc}^{-2} \\sim 10^6\\,{\\rm cm}^{-2}\\,{\\rm s}^{-1}$\n",
    "- $24 \\times 10^{49} \\,{\\rm s}^{-1}\\,{\\rm kpc}^{-2}\\sim 2.4 \\times 10^7\\,{\\rm s}^{-1}$\n",
    "- Solar neighborhood condition: for $\\Sigma_{\\rm SFR} \\sim 3\\times 10^{-3}\\,M_{\\odot}\\,{\\rm kpc}^{-2}\\,{\\rm yr}^{-1}$ and assuming $t_{\\rm YSC} \\sim 3\\,{\\rm Myr}$: $\\Sigma_{\\rm YSC} \\sim 10^4 M_{\\odot}\\,{\\rm kpc}^{-2}$ and $\\Phi_{\\rm i} \\sim 5\\times 10^{50}\\,{\\rm s}^{-1}\\,{\\rm kpc}^{-2}$.\n",
    "\n",
    "- Box size: 1x1x8 kpc. Spatial resolution 7.8 pc and 15.6 pc\n",
    "- __It is unclear whether they solve neutral fraction evolution or simply assume equilibrium.__\n",
    "\n",
    "###### Results\n",
    "\n",
    "- Vertical density profile develops tail when Qi per source is high. Still it is not enough to explain DIG. \"The diffuse gas in our models is generally more diffuse than that in the observed DIG.\"\n",
    "\n",
    "- \"This indicates that (i) the DIG is not in hydrostatic equilibrium, as our densities are close to the expected hydrostatic equilibrium values, but is instead either outflowing or being accreted, and (ii) we are missing additional feedback energy that provides extra support or drives strong outflows that boost the density in the diffuse component.\"\n",
    "\n",
    "- For $Q_{\\rm H} = 10^{49}\\,{\\rm s}^{-1}$, all the gas becomes ionized (Figure 11)\n",
    "\n",
    "- Ionizing luminosity needs to be sufficiently strong to support a DIG, and weak enough to allow for the existence of a neutral disc."
   ]
  },
  {
   "cell_type": "markdown",
   "metadata": {},
   "source": [
    "### Vandenbroucke et al. (2018): Radiative transfer calculations of the diffuse ionized gas in disc galaxies with cosmic ray feedback\n",
    "\n",
    "- \"Barnes et al. (2014) used the models of Hill et al. (2012), which include thermal stellar feedback in a full magnetohydrody-namical (MHD) treatment of the ISM, and showed that they fail to reproduce the required densities at high altitude that could explain the observed scale height of the DIG. Furthermore, they also show the need for an additional source of heating that would explain the observed intensities of the [N II] 6584 Å and [S II] 6725 Å forbidden lines as a function of the Hα intensity. These results indicate that a simple model including only thermal supernova feedback is unable to support an extended DIG and unable to heat the gas to high enough temperatures.\"\n",
    "\n",
    "###### Method\n",
    "\n",
    "- Simulation snapshots from Girichidis et al. (2016)\n",
    "- Do not use on-the-spot approximation.\n",
    "- Calculate ionization structure with fixed temperature 8000K for ionized gas; line intensity is calculated using the full algorithm (temperature equilibrium accounting for heating and cooling processes)\n",
    "- Heating by PAH is considered but ignores absorption by dust?\n",
    "- Box size: 2 x 2 x 40kpc; AMR with highest resolution 15.6 pc (128x128x2560 cells); use only 2 x 2 x 4kpc data at uniform resolution (15.6 pc)\n",
    "\n",
    "- Source: 24 O stars per kpc^2 (96 sources), Garmany+82; cloud-scale escape fraction is uncertain and hence a free parameter (0.1, 0.25, 1.0). Generic ionizing photon rate per source is set to 4.26x10^49/s or __$\\Phi_{\\rm i} \\sim 10^{51}\\,{\\rm s}^{-1}\\,{\\rm kpc}^{-2}$.__\n",
    "\n",
    "- 20 iterations. 10^7 photon packets; for calculating emission lines use 10^8 photon packets.\n",
    "- Most of results shown are for the snapshot at t=250Myr\n",
    "\n",
    "###### Results\n",
    "\n",
    "- Third row in Fig 2: different random seeds -> vertical profile of neutral gas density changes, but ionized gas density does not.\n",
    "- If Qi is too low or too high, ends up with almost completely neutral or ionized gas disk..which is kind of expected.\n",
    "- Fig 6: more extended ionized gas disk with CR feedback\n",
    "- Fig 11: For fiducial Qi per source, temperature decreases with decreasing I(Halpha), opposite to the trend found with WHAM observations.\n",
    "\n",
    "- CR heating due to damped Alfven waves does increase the temperature of low-density gas, but observed line ratio is not likely to be affected.\n",
    "\n",
    "\n",
    "- Conclusion and 3rd paragraph of Sec 3.4.2 discuss the fine-tuning of ionizing luminosity.\n",
    "\n",
    "- Cloud-scale escape fraction of 25% gives desired spectral hardening in (intermediate density ionized gas that is responsible for DIG emission), and reproduces observed IHalpha -- line-ratio trend."
   ]
  },
  {
   "cell_type": "markdown",
   "metadata": {},
   "source": [
    "### Barnes et al. (2015): Models of diffuse Hα in the interstellar medium: the relative contributions from in situ ionization and dust scattering"
   ]
  },
  {
   "cell_type": "markdown",
   "metadata": {},
   "source": [
    "### Barnes et al. (2014): Photoionization and heating of a supernova-driven turbulent interstellar medium\n",
    "\n",
    "\n",
    "###### Method\n",
    "\n",
    "- MHD simulation: Box size 1x1x40kpc.\n",
    "\n",
    "- Similar to Vandenbroucke+19. Resolution is 16 pc due to memory restrictions.\n",
    "\n",
    "- \"Three fifths of the core-collapse supernovae are clustered spatially and temporally to simulate super bubbles, though supernova posi- tions and times are determined without knowledge of the gas distribution\"\n",
    "\n",
    "\n",
    "###### Results\n",
    "\n",
    "- Scale heights: 150pc and 250pc for Q49=10 and 1, respectively.\n",
    "- Additional heating term from photoelectric effect and cosmic rays increases the temperature of DIG.\n",
    "- Model with fractal structure with extended disk (1kpc exponential scale height) is successful in reproducing observed IHalpha vs. line ratio trend.\n",
    "- Fig 12: On the spot approximation is not a bad approximation even in the DIG."
   ]
  },
  {
   "cell_type": "markdown",
   "metadata": {},
   "source": [
    "### Barnes (2016, PhD Thesis): SEEING THE LIGHT INVESTIGATING THE EFFECTS OF PHOTOIONISATION IN OUR GALAXY"
   ]
  },
  {
   "cell_type": "markdown",
   "metadata": {},
   "source": [
    "### Hill et al. (2012): VERTICAL STRUCTURE OF A SUPERNOVA-DRIVEN TURBULENT, MAGNETIZED INTERSTELLAR MEDIUM\n"
   ]
  },
  {
   "cell_type": "markdown",
   "metadata": {},
   "source": [
    "### Dong & Draine (2011): Hα AND FREE–FREE EMISSION FROM THE WARM IONIZED MEDIUM"
   ]
  },
  {
   "cell_type": "markdown",
   "metadata": {},
   "source": [
    "### Wood et al. (2010): PHOTOIONIZATION OF HIGH-ALTITUDE GAS IN A SUPERNOVA-DRIVEN TURBULENT INTERSTELLAR MEDIUM"
   ]
  },
  {
   "cell_type": "markdown",
   "metadata": {},
   "source": [
    "### Hill et al. (2008): THE TURBULENT WARM IONIZED MEDIUM: EMISSION MEASURE DISTRIBUTION AND MHD SIMULATIONS"
   ]
  },
  {
   "cell_type": "markdown",
   "metadata": {},
   "source": [
    "### Dove & Shull (2002)"
   ]
  },
  {
   "cell_type": "code",
   "execution_count": null,
   "metadata": {},
   "outputs": [],
   "source": []
  }
 ],
 "metadata": {
  "kernelspec": {
   "display_name": "Python 3",
   "language": "python",
   "name": "python3"
  },
  "language_info": {
   "codemirror_mode": {
    "name": "ipython",
    "version": 3
   },
   "file_extension": ".py",
   "mimetype": "text/x-python",
   "name": "python",
   "nbconvert_exporter": "python",
   "pygments_lexer": "ipython3",
   "version": "3.7.5"
  }
 },
 "nbformat": 4,
 "nbformat_minor": 2
}
