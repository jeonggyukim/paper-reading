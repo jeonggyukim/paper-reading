{
 "cells": [
  {
   "cell_type": "markdown",
   "metadata": {},
   "source": [
    "### Li et al. (2019) (http://adsabs.harvard.edu/abs/2019ApJ...872...63L)\n",
    "\n",
    "\\begin{equation}\n",
    "A_{\\rm H\\alpha} = \\dfrac{E({\\rm H\\beta} - {\\rm H\\alpha})}{k(\\lambda_{\\rm H\\beta}) - k(\\lambda_{\\rm H\\alpha})} \\times k(\\lambda_{\\rm H\\alpha})\n",
    "\\end{equation}\n",
    "\n",
    "\\begin{equation}\n",
    "E({\\rm H\\beta} - {\\rm H\\alpha}) = 2.5 \\log\\left(\\dfrac{({\\rm H\\alpha}/{\\rm H\\beta})_{\\rm obs}}{({\\rm H\\alpha}/{\\rm H\\beta})_{\\rm int}}\\right)\n",
    "\\end{equation}\n",
    "with the intrinsic ratio $({\\rm H\\alpha}/{\\rm H\\beta})_{\\rm int} = 2.86$ for case B recombination (insensitive to gas density and temperature (see also Section 1 in Liu et al. 2013)."
   ]
  },
  {
   "cell_type": "markdown",
   "metadata": {},
   "source": [
    "### Kennicutt & Evans (2012)\n",
    "\n",
    "* If intrinsic color is known, FUV-NUV color or UV spectral slope can be used to estimate dust attenuation.\n",
    "\n",
    "* Star counting\n",
    "\n",
    "* UV continuum\n",
    "\n",
    "* Optical and/or near-IR emission lines from ionized gas: traces nearly instantaneous SFR. Red-shifted Lyman alpha line.\n",
    "\n",
    "    * Halpha: suffer from dust attenuation and sensitivity to the presence of O stars in regions with low SFR\n",
    "    \n",
    "    * Balmer decrement: Only approximate correction because of variations on unresolved small scales\n",
    "    \n",
    "    * Variations within the beam may lead to underestimation of extinction because lines of sight with low attenuation are more heavily weighted within the beam.\n",
    "\n",
    "* Dust-reprocessed IR:"
   ]
  },
  {
   "cell_type": "markdown",
   "metadata": {},
   "source": [
    "### Murray 2011\n",
    "\n",
    "* Use 1.37 correction factor to account for dust absorption\n",
    "\n",
    "* Lee+16 also made the same correction.\n",
    "\n",
    "* Upper limit on ionized gas mass can be calculated: $M_{\\rm gas,i} \\le Q_{\\rm i,eff}/(\\alpha_{\\rm B}n_{\\rm rms,i})$\n"
   ]
  },
  {
   "cell_type": "markdown",
   "metadata": {},
   "source": [
    "### Draine & Li (2007) formula for $L_{\\rm TIR}$ (Appendix A in Skibba+2012)\n",
    "\n",
    "$$L_{\\rm TIR} = 0.95\\langle \\nu L_\\nu \\rangle_{8.0} + 1.15\\langle \\nu L_\\nu\\rangle_{24} + \\langle \\nu L_\\nu \\rangle_{70} + \\langle \\nu L_\\nu \\rangle_{160}$$\n",
    "\n",
    "where $\\langle \\nu L_\\nu \\rangle \\equiv \\langle L_\\nu \\rangle c/\\lambda$."
   ]
  },
  {
   "cell_type": "markdown",
   "metadata": {},
   "source": [
    "## Observational estimates of ionizing/IR luminosity\n",
    "\n",
    "### W49 (Galvan-Madrid et al 2013, Wu+16, Mooney, Solomon 1988)\n",
    "\n",
    "* Galacto centric distance of 7.6kpc. Parallax distance to the Sun of 11.1kpc (Zhang,Reid,Menten 2013)\n",
    "\n",
    "* Flux at 3.5 cm (8.5GHz) (De Pree+04). The total free-free flux at 8.5 GHzis 29.7 Jy. This gives  $Q_{\\rm i,eff} = 3.45\\times 10^{50}\\,{\\rm s}$ for $T_{\\rm ion} = 10^4\\,{\\rm K}$.\n",
    "\n",
    "* Spectroscopic survey of W49 by Wu+16 reports $Q_{\\rm i} = 10^{50.94}$. Therefore, $f_{\\rm ion} = 0.39$.\n",
    "\n",
    "* Size of radio-emitting region: radius $\\sim 60\\,{\\rm pc}$.\n",
    "\n",
    "* rms number density of ionized gas: $n_{\\rm i,rms} \\sim 12.5\\,{\\rm cm}^{-3}$\n",
    "\n",
    "* IR luminosity $\\sim 2\\times 10^{7}\\,L_{\\odot}$ (Mooney \\& Solomon)\n",
    "\n",
    "### Carina Nebula (Smith & Brook 2007)\n",
    "\n",
    "* Total $Q_{\\rm i} = 9.0 \\times 10^{51}\\,{\\rm s}^{-1}$ (from stellar census)\n",
    "\n",
    "\n",
    "* $Q_{\\rm i,eff} = 6.9 \\times 10^{50}\\,{\\rm s}^{-1}$ from radio continuum\n",
    "\n",
    "\n",
    "* $Q_{\\rm i,eff} = 6.9 \\times 10^{50}\\,{\\rm s}^{-1}$ from H$\\alpha$ (underestimated because standard extinction correction ignores non-uniform distribution..?)\n",
    "\n",
    "\n",
    "\n",
    "* From IRAS and MSX, total IR luminosity: $L_{\\rm IR} = 1.18 \\times 10^7\\,L_{\\odot}$\n",
    "\n",
    "    * Roccatagliata+13's estimate from Herschel data: $L_{\\rm IR} = 1.7 \\times 10^7\\,L_{\\odot}$ (possible explanation for the discrepancy: covers slightly larger area)\n",
    "\n",
    "\n",
    "* Gas mass (molecular + atomic): $1$-$2 \\times 10^6\\,M_{\\odot}$\n",
    "\n",
    "\n",
    "* Expansion velocity: $\\sim 20\\,{\\rm km}\\,{\\rm s}^{-1}$\n",
    "\n",
    "\n",
    "### NGC 3603\n",
    "\n",
    "* Crowther & Dessart: $Q_{\\rm i} = 10^{51.19}$. This could be lower and similar to Carina's $Q_{\\rm i}$ given that they used older $T_{\\rm eff}$ scale. (See Section 5 in Smith+06.)"
   ]
  },
  {
   "cell_type": "markdown",
   "metadata": {},
   "source": [
    "### 30 Dor (Doran et al. 2013)\n",
    "\n",
    "* Stellar mass of 30Dor: $M_* \\sim 1.1 \\times 10^5\\,M_{\\odot} $ (obtained by integrating Kroupa IMF)\n",
    "\n",
    "\n",
    "* Stellar mass of R136: $M_* \\lesssim 5.5 \\times 10^4\\,M_{\\odot} $ (obtained by integrating Kroupa IMF, consistent with Hunter+95). Size $\\sim 5\\,{\\rm pc}$ or less.\n",
    "\n",
    "\n",
    "* Crowther & Dessart (1998)'s estimate out to $r_{\\rm d}=10\\,{\\rm pc}$ (from the center of R136): $Q_{\\rm i} = 4.2\\times 10^{51}\\,{\\rm s}^{-1}$.\n",
    "\n",
    "\n",
    "* Table 9: $Q_{\\rm i,tot} = Q_{\\rm i,OB} + Q_{\\rm i,WR/Of/WN} = (7.34\\times 10^{51}\\,{\\rm s}^{-1} + 5.03 \\times 10^{51})\\,{\\rm s}^{-1} = 1.237 \\times 10^{52}\\,{\\rm s}^{-1}$.\n",
    "\n",
    "* $Q_{\\rm i,eff} \\sim $\n",
    "\n",
    "\n",
    "* IR luminosity: $L_{\\rm IR} = 1.58 \\times 10^{41}\\,{\\rm erg}\\,{\\rm s}^{-1}$. (Could be higher?)\n",
    "\n",
    "\n",
    "* __Why is $L_{\\rm IR}/L_{\\rm ph}$ ratio smaller than MW HII regions and simulations__?\n",
    "\n",
    "    * The ionizing photon production rate for 30 Dor is $\\Xi = 1.237 \\times 10^{52}\\,{\\rm s}^{-1}/1.1 \\times 10^{5}\\,M_\\odot = 1.12 \\times 10^{47}\\,{\\rm s}^{-1}$ is more than a factor of two larger than the fully sampled IMF limit $5.05 \\times 10^{46}\\,{\\rm s}^{-1}\\,M_\\odot^{-1}$ in Kim+16. Contribution from WR stars and most massive stars  significant.\n",
    "    \n",
    "    * LMC has subsolar metallicity and dust-to-gas ratio is also expected to be small. Thus, dust absorption fraction is likely to be smaller than our simulations suggest."
   ]
  },
  {
   "cell_type": "code",
   "execution_count": 29,
   "metadata": {},
   "outputs": [
    {
     "data": {
      "text/plain": [
       "(<Quantity 390168.35916643 solMass>, <Quantity 12.55455001 1 / cm3>)"
      ]
     },
     "execution_count": 29,
     "metadata": {},
     "output_type": "execute_result"
    }
   ],
   "source": [
    "def compute_Qieff(flux, D, wav=3.5, Tion=1e4):\n",
    "    \"\"\"Calculate the total photoionization rate based on \n",
    "    free-free flux and distance to the cloud\n",
    "    \n",
    "    Assumes that CMB or thermal dust emission is negligible\n",
    "    \n",
    "    flux: flux in Jansky\n",
    "    D : distance to the cloud in pc\n",
    "    wav : wavelengthh in cm\n",
    "    Tion : ionized gas temperature\n",
    "    \"\"\"\n",
    "\n",
    "    nu = (ac.c/(wav*au.cm)).to('GHz')\n",
    "    dist = D*au.pc\n",
    "    g_ff = np.log(np.exp(5.960 - np.sqrt(3.0)/np.pi*np.log(nu.value*(Tion/1e4)**-1.5)) + np.e)\n",
    "    alphaB = 2.59e-13*(Tion/1e4)**(-0.7)*au.cm**3/au.s\n",
    "    # free-free emissivity\n",
    "    eps_ff = (32.0*np.pi*ac.e.esu**6/(3.0*ac.m_e*ac.c**3)*\\\n",
    "              (2.0*np.pi/(3.0*ac.k_B*ac.m_e))**0.5*(Tion*au.K)**-0.5*g_ff).cgs\n",
    "\n",
    "    flux = flux*au.Jy\n",
    "    Qieff = ((4.0*np.pi*dist**2)*flux*alphaB/eps_ff).cgs\n",
    "    \n",
    "    return Qieff\n",
    "\n",
    "# W49\n",
    "R = 60.0*au.pc\n",
    "Qi = 10.0**50.94/au.s\n",
    "Tion = 1e4\n",
    "muH = 1.4*au.u\n",
    "\n",
    "Qieff = compute_Qieff(29.7, 11.1e3, Tion=Tion)\n",
    "alphaB = 2.59e-13*(Tion/1e4)**(-0.7)*au.cm**3/au.s\n",
    "fion = Qieff/Qi\n",
    "nrms = (((3.0*Qieff)/(4.0*alphaB*R**3))**0.5).cgs\n",
    "Mion = (nrms*4.0*np.pi/3.0*R**3*muH).to('M_sun')\n",
    "Mion,nrms"
   ]
  },
  {
   "cell_type": "code",
   "execution_count": 5,
   "metadata": {},
   "outputs": [
    {
     "data": {
      "text/plain": [
       "[<matplotlib.lines.Line2D at 0x114993cc0>]"
      ]
     },
     "execution_count": 5,
     "metadata": {},
     "output_type": "execute_result"
    },
    {
     "data": {
      "image/png": "[encoded data removed]",
      "text/plain": [
       "<Figure size 432x288 with 1 Axes>"
      ]
     },
     "metadata": {
      "needs_background": "light"
     },
     "output_type": "display_data"
    }
   ],
   "source": [
    "t = np.logspace(-2, 2)\n",
    "plt.semilogx(t, 1.0 - np.exp(-t))\n",
    "plt.semilogx(t, t/(1.0 + 0.75*t))"
   ]
  },
  {
   "cell_type": "code",
   "execution_count": 10,
   "metadata": {},
   "outputs": [
    {
     "data": {
      "text/latex": [
       "$0.0001 \\; \\mathrm{cm}$"
      ],
      "text/plain": [
       "<Quantity 1.e-04 cm>"
      ]
     },
     "execution_count": 10,
     "metadata": {},
     "output_type": "execute_result"
    }
   ],
   "source": [
    "(1.0*au.micrometer).to('cm')"
   ]
  },
  {
   "cell_type": "code",
   "execution_count": 13,
   "metadata": {},
   "outputs": [
    {
     "data": {
      "text/latex": [
       "$[29979.246,~2997.9246] \\; \\mathrm{\\mu m}$"
      ],
      "text/plain": [
       "<Quantity [29979.2458 ,  2997.92458] um>"
      ]
     },
     "execution_count": 13,
     "metadata": {},
     "output_type": "execute_result"
    }
   ],
   "source": [
    "([1e10, 1e11] * au.Hz).to(au.micrometer, equivalencies=au.spectral())"
   ]
  }
 ],
 "metadata": {
  "kernelspec": {
   "display_name": "Python 3",
   "language": "python",
   "name": "python3"
  },
  "language_info": {
   "codemirror_mode": {
    "name": "ipython",
    "version": 3
   },
   "file_extension": ".py",
   "mimetype": "text/x-python",
   "name": "python",
   "nbconvert_exporter": "python",
   "pygments_lexer": "ipython3",
   "version": "3.7.1"
  }
 },
 "nbformat": 4,
 "nbformat_minor": 2
}
