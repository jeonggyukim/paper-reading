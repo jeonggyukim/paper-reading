{
 "cells": [
  {
   "cell_type": "markdown",
   "metadata": {},
   "source": [
    "## Donahue (2015): ULTRAVIOLET MORPHOLOGY AND UNOBSCURED UV STAR FORMATION RATES OF CLASH BRIGHTEST CLUSTER GALAXIES\n",
    "\n",
    "* Active BCGs are embedded in dense high-pressure, low-entropy gas (cool cores or cooling flows)\n",
    "\n",
    "* 10%–30% of BCGs in optically selected samples exhibit either radio-loud AGN or star formation activity or both (e.g., Edwards et al. 2007; von der Linden et al. 2007)\n",
    "\n",
    "\n"
   ]
  }
 ],
 "metadata": {
  "kernelspec": {
   "display_name": "Python 3",
   "language": "python",
   "name": "python3"
  },
  "language_info": {
   "codemirror_mode": {
    "name": "ipython",
    "version": 3
   },
   "file_extension": ".py",
   "mimetype": "text/x-python",
   "name": "python",
   "nbconvert_exporter": "python",
   "pygments_lexer": "ipython3",
   "version": "3.7.1"
  }
 },
 "nbformat": 4,
 "nbformat_minor": 2
}
