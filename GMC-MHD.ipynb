{
 "cells": [
  {
   "cell_type": "markdown",
   "metadata": {},
   "source": [
    "## Virial theorem\n",
    "\n",
    "McKee \\& Zweibel (1992): https://ui.adsabs.harvard.edu/abs/1992ApJ...399..551M/abstract\n",
    "\n",
    "##### Magnetic surface term\n",
    "\n",
    "The (time-averaged?) magnetic energy term in the Eulerian virial theorem is\n",
    "\n",
    "\\begin{align}\n",
    "\\mathcal{M} & = \\int_V \\mathbf{r} \\cdot (\\nabla \\cdot \\langle \\mathbf{T}_M \\rangle) dV \\\\\n",
    "            & \\approx \\int_{V_{\\rm cl}} \\mathbf{r} \\cdot (\\nabla \\cdot \\langle \\mathbf{T}_M \\rangle) dV\n",
    "\\end{align}\n",
    "\n",
    "where $V$ is the cloud-containing volume with characteristic radius $R$ and $\\mathbf{T}_M = \\dfrac{1}{4\\pi}(\\mathbf{B}\\mathbf{B} - \\dfrac{B^2}{2}\\mathbf{1})$ is the Maxwell stress tensor. We have assumed that the integrand vanishes outside the cloud, since the intecloud medium is effectively force-free ($\\nabla \\cdot \\langle \\mathbf{T}_M \\rangle \\approx 0$; the bracket denotes a time average) on time scales exceeding $t_{\\rm av} \\gtrsim R_{\\rm cl}/c_{\\rm intercloud}$, i.e., ."
   ]
  },
  {
   "cell_type": "markdown",
   "metadata": {},
   "source": [
    "Consider a volume $V^{\\prime}$ of the intercloud medium identical to the volume $V$ enclosing the cloud, except that $V^{\\prime}$ does not contain a cloud.\n",
    "\n",
    "\\begin{align}\n",
    "    0 & \\approx \\int_{V^{\\prime}} \\mathbf{r} \\cdot (\\nabla \\cdot \\langle \\mathbf{T}_M \\rangle ) dV \\\\\n",
    "      & = -\\int_{\\rm V^{\\prime}} {\\rm Tr}\\,\\langle \\mathbf{T}_M \\rangle dV + \\int_{\\rm S^{\\prime}} \\mathbf{r}\\cdot \\langle \\mathbf{T}_M \\rangle \\cdot d\\mathbf{S} \\\\\n",
    "      & = \\int_{\\rm V^{\\prime}} \\dfrac{\\langle B^2 \\rangle}{8\\pi} dV + \\int_{\\rm S^{\\prime}} \\mathbf{r}\\cdot \\langle \\mathbf{T}_M \\rangle \\cdot d\\mathbf{S}\n",
    "\\end{align}\n",
    "\n",
    "Therefore, we have\n",
    "\n",
    "\\begin{equation}\n",
    "\\int_{\\rm S^{\\prime}} \\mathbf{r}\\cdot \\langle \\mathbf{T}_M \\rangle \\cdot d\\mathbf{S} \\approx - \\dfrac{B_{\\rm ic}^2}{8\\pi} V^{\\prime}\n",
    "\\end{equation}\n",
    "\n",
    "where the rms value of magnetic fields far from the cloud is denoted by $B_{\\rm ic}^2$.\n",
    "\n",
    "\n",
    "\\begin{align}\n",
    "\\mathcal{M} & = \\int_V \\mathbf{r} \\cdot (\\nabla \\cdot \\langle \\mathbf{T}_M \\rangle) dV \\\\\n",
    "            & = \\int_{V^{\\prime}} \\mathbf{r} \\cdot (\\nabla \\cdot \\langle \\mathbf{T}_M \\rangle) dV + \\int_{V_{\\rm cl}} \\mathbf{r} \\cdot (\\nabla \\cdot \\langle \\mathbf{T}_M \\rangle) dV \\\\\n",
    "            & = \\int_{V^{\\prime}} \\dfrac{\\langle B^2 \\rangle}{8\\pi} dV + \\int_{S^{\\prime}} \\mathbf{r}\\cdot \\langle \\mathbf{T}_M \\rangle \\cdot d\\mathbf{S} + \\int_{V_{\\rm cl}} \\dfrac{\\langle B^2 \\rangle}{8\\pi} dV + \\int_{S_{\\rm cl}} \\mathbf{r}\\cdot \\langle \\mathbf{T}_M \\rangle \\cdot d\\mathbf{S}\n",
    "\\end{align}\n",
    "\n"
   ]
  },
  {
   "cell_type": "markdown",
   "metadata": {},
   "source": []
  },
  {
   "cell_type": "code",
   "execution_count": null,
   "metadata": {},
   "outputs": [],
   "source": []
  }
 ],
 "metadata": {
  "kernelspec": {
   "display_name": "Python 3",
   "language": "python",
   "name": "python3"
  },
  "language_info": {
   "codemirror_mode": {
    "name": "ipython",
    "version": 3
   },
   "file_extension": ".py",
   "mimetype": "text/x-python",
   "name": "python",
   "nbconvert_exporter": "python",
   "pygments_lexer": "ipython3",
   "version": "3.7.4"
  }
 },
 "nbformat": 4,
 "nbformat_minor": 2
}
