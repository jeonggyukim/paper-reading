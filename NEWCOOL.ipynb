{
 "cells": [
  {
   "cell_type": "markdown",
   "metadata": {},
   "source": [
    "# Outline\n",
    "\n",
    "## 1. Introduction\n",
    "\n",
    "## 2. Model\n",
    "\n",
    "### Basic equations\n",
    "\n",
    "### Chemical and thermal processes\n",
    "\n",
    "#### Molecular hydrogen\n",
    "\n",
    "#### Ionized hydrogen\n",
    "\n",
    "#### Carbon-bearing species\n",
    "\n",
    "### Cooling\n",
    "\n",
    "#### Cooling from Lya, CII, OI, CO\n",
    "#### Cooling from collisionally ionized gas\n",
    "#### Cooling from photoionized gas\n",
    "\n",
    "### Heating\n",
    "\n",
    "#### CR heating\n",
    "#### PE heating\n",
    "#### H2 pumping, dissociation"
   ]
  }
 ],
 "metadata": {
  "kernelspec": {
   "display_name": "Python 3",
   "language": "python",
   "name": "python3"
  },
  "language_info": {
   "codemirror_mode": {
    "name": "ipython",
    "version": 3
   },
   "file_extension": ".py",
   "mimetype": "text/x-python",
   "name": "python",
   "nbconvert_exporter": "python",
   "pygments_lexer": "ipython3",
   "version": "3.7.4"
  }
 },
 "nbformat": 4,
 "nbformat_minor": 2
}
